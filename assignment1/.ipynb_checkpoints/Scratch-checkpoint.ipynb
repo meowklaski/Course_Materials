{
 "cells": [
  {
   "cell_type": "code",
   "execution_count": 2,
   "metadata": {
    "collapsed": true
   },
   "outputs": [],
   "source": [
    "import numpy as np\n",
    "from numba import jit"
   ]
  },
  {
   "cell_type": "code",
   "execution_count": 3,
   "metadata": {
    "collapsed": false
   },
   "outputs": [],
   "source": [
    "@jit\n",
    "def jit_loop(train, test):\n",
    "    \"\"\"\n",
    "    Compute the distance between each test point in test and each training point\n",
    "    in train using a nested loop over both the training data and the\n",
    "    test data.\n",
    "\n",
    "    Inputs:\n",
    "    - test: A numpy array of shape (num_test, D) containing test data.\n",
    "\n",
    "    Returns:\n",
    "    - dists: A numpy array of shape (num_test, num_train) where dists[i, j]\n",
    "      is the Euclidean distance between the ith test point and the jth training\n",
    "      point. \"\"\"\n",
    "    num_test = test.shape[0]\n",
    "    num_train = train.shape[0]\n",
    "    dists = np.zeros((num_test, num_train))\n",
    "    dim = test.shape[1]\n",
    "    for i in range(num_test):\n",
    "        for j in range(num_train):\n",
    "            sum_ = 0\n",
    "            for k in range(dim):\n",
    "                x = train[j, k] - test[i, k]\n",
    "                sum_ += x*x\n",
    "            dists[i,j] = sum_\n",
    "    return np.sqrt(dists)\n",
    "\n",
    "def compute_distances_two_loops(data, X):\n",
    "    \"\"\"\n",
    "    Compute the distance between each test point in X and each training point\n",
    "    in data using a nested loop over both the training data and the\n",
    "    test data.\n",
    "\n",
    "    Inputs:\n",
    "    - X: A numpy array of shape (num_test, D) containing test data.\n",
    "\n",
    "    Returns:\n",
    "    - dists: A numpy array of shape (num_test, num_train) where dists[i, j]\n",
    "      is the Euclidean distance between the ith test point and the jth training\n",
    "      point. \"\"\"\n",
    "    num_test = X.shape[0]\n",
    "    num_train = data.shape[0]\n",
    "    dists = np.zeros((num_test, num_train))\n",
    "    for i in xrange(num_test):\n",
    "        for j in xrange(num_train):\n",
    "            dists[i,j] = np.sum((data[j] - X[i])**2)\n",
    "    return np.sqrt(dists)\n",
    "\n",
    "def compute_distances_one_loop(data, X):\n",
    "    \"\"\"\n",
    "    Compute the distance between each test point in X and each training point\n",
    "    in data using a single loop over the test data.\n",
    "\n",
    "    Input / Output: Same as compute_distances_two_loops \"\"\"\n",
    "    num_test = X.shape[0]\n",
    "    num_train = data.shape[0]\n",
    "    dists = np.zeros((num_test, num_train))\n",
    "    for i in xrange(num_test):\n",
    "        dists[i,:] = np.sum((data - X[i,:])**2, axis=-1)\n",
    "    return np.sqrt(dists)\n",
    "\n",
    "def compute_distances_no_loops(data, X):\n",
    "    \"\"\"\n",
    "    Compute the distance between each test point in X and each training point\n",
    "    in data using no explicit loops.\n",
    "\n",
    "    Input / Output: Same as compute_distances_two_loops\"\"\"\n",
    "    return np.sqrt(np.sum((data - X[:, np.newaxis])**2,axis=-1))"
   ]
  },
  {
   "cell_type": "code",
   "execution_count": 14,
   "metadata": {
    "collapsed": true
   },
   "outputs": [],
   "source": [
    "i = 100\n",
    "j = 30\n",
    "data = np.random.randint(0,256,(i,j))\n",
    "X = np.random.randint(0,256,(i/10,j))"
   ]
  },
  {
   "cell_type": "code",
   "execution_count": 15,
   "metadata": {
    "collapsed": false
   },
   "outputs": [
    {
     "name": "stdout",
     "output_type": "stream",
     "text": [
      "10000 loops, best of 3: 30.2 µs per loop\n"
     ]
    }
   ],
   "source": [
    "%%timeit\n",
    "jit_loop(data,X)"
   ]
  },
  {
   "cell_type": "code",
   "execution_count": 16,
   "metadata": {
    "collapsed": false
   },
   "outputs": [
    {
     "name": "stdout",
     "output_type": "stream",
     "text": [
      "10000 loops, best of 3: 69.9 µs per loop\n"
     ]
    }
   ],
   "source": [
    "%%timeit\n",
    "compute_distances_no_loops(data,X)"
   ]
  },
  {
   "cell_type": "code",
   "execution_count": 17,
   "metadata": {
    "collapsed": false
   },
   "outputs": [
    {
     "name": "stdout",
     "output_type": "stream",
     "text": [
      "10000 loops, best of 3: 102 µs per loop\n"
     ]
    }
   ],
   "source": [
    "%%timeit\n",
    "compute_distances_one_loop(data,X)"
   ]
  },
  {
   "cell_type": "code",
   "execution_count": 18,
   "metadata": {
    "collapsed": false
   },
   "outputs": [
    {
     "name": "stdout",
     "output_type": "stream",
     "text": [
      "100 loops, best of 3: 2.45 ms per loop\n"
     ]
    }
   ],
   "source": [
    "%%timeit\n",
    "compute_distances_two_loops(data,X)"
   ]
  },
  {
   "cell_type": "code",
   "execution_count": null,
   "metadata": {
    "collapsed": true
   },
   "outputs": [],
   "source": []
  }
 ],
 "metadata": {
  "kernelspec": {
   "display_name": "Python 2",
   "language": "python",
   "name": "python2"
  },
  "language_info": {
   "codemirror_mode": {
    "name": "ipython",
    "version": 2
   },
   "file_extension": ".py",
   "mimetype": "text/x-python",
   "name": "python",
   "nbconvert_exporter": "python",
   "pygments_lexer": "ipython2",
   "version": "2.7.11"
  }
 },
 "nbformat": 4,
 "nbformat_minor": 0
}
