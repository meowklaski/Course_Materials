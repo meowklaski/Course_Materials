{
 "cells": [
  {
   "cell_type": "code",
   "execution_count": 2,
   "metadata": {
    "collapsed": true
   },
   "outputs": [],
   "source": [
    "import numpy as np\n",
    "from numba import jit"
   ]
  },
  {
   "cell_type": "code",
   "execution_count": 235,
   "metadata": {
    "collapsed": false
   },
   "outputs": [],
   "source": [
    "@jit\n",
    "def jit_loop(train, test):\n",
    "    \"\"\"\n",
    "    Compute the distance between each test point in test and each training point\n",
    "    in train using a nested loop over both the training data and the\n",
    "    test data.\n",
    "\n",
    "    Inputs:\n",
    "    - test: A numpy array of shape (num_test, D) containing test data.\n",
    "\n",
    "    Returns:\n",
    "    - dists: A numpy array of shape (num_test, num_train) where dists[i, j]\n",
    "      is the Euclidean distance between the ith test point and the jth training\n",
    "      point. \"\"\"\n",
    "    num_test = test.shape[0]\n",
    "    num_train = train.shape[0]\n",
    "    dists = np.zeros((num_test, num_train))\n",
    "    dim = test.shape[1]\n",
    "    for i in range(num_test):\n",
    "        for j in range(num_train):\n",
    "            sum_ = 0\n",
    "            for k in range(dim):\n",
    "                x = train[j, k] - test[i, k]\n",
    "                sum_ += x*x\n",
    "            dists[i,j] = sum_\n",
    "    return np.sqrt(dists)\n",
    "\n",
    "def compute_distances_two_loops(data, X):\n",
    "    \"\"\"\n",
    "    Compute the distance between each test point in X and each training point\n",
    "    in data using a nested loop over both the training data and the\n",
    "    test data.\n",
    "\n",
    "    Inputs:\n",
    "    - X: A numpy array of shape (num_test, D) containing test data.\n",
    "\n",
    "    Returns:\n",
    "    - dists: A numpy array of shape (num_test, num_train) where dists[i, j]\n",
    "      is the Euclidean distance between the ith test point and the jth training\n",
    "      point. \"\"\"\n",
    "    num_test = X.shape[0]\n",
    "    num_train = data.shape[0]\n",
    "    dists = np.zeros((num_test, num_train))\n",
    "    for i in xrange(num_test):\n",
    "        for j in xrange(num_train):\n",
    "            dists[i,j] = np.sum((data[j] - X[i])**2.)\n",
    "    return np.sqrt(dists)\n",
    "\n",
    "def compute_distances_one_loop(data, X):\n",
    "    \"\"\"\n",
    "    Compute the distance between each test point in X and each training point\n",
    "    in data using a single loop over the test data.\n",
    "\n",
    "    Input / Output: Same as compute_distances_two_loops \"\"\"\n",
    "    num_test = X.shape[0]\n",
    "    num_train = data.shape[0]\n",
    "    dists = np.zeros((num_test, num_train))\n",
    "    d2 = np.sum(data**2, axis=1)\n",
    "    for i in xrange(num_test):\n",
    "        dists[i,:] = d2 + np.sum(X[i,:]**2.) - 2.*np.einsum('ij,j->i', data, X[i,:])\n",
    "    return np.sqrt(dists)\n",
    "\n",
    "def compute_distances_no_loops_bad(data, X):\n",
    "    \"\"\"\n",
    "    Compute the distance between each test point in X and each training point\n",
    "    in data using no explicit loops.\n",
    "\n",
    "    Input / Output: Same as compute_distances_two_loops\"\"\"\n",
    "    return np.sqrt(np.sum((data - X[:, np.newaxis])**2.,axis=-1))\n",
    "\n",
    "def compute_distances_no_loops(data, X):\n",
    "    \"\"\"\n",
    "    Compute the distance between each test point in X and each training point\n",
    "    in data using no explicit loops.\n",
    "\n",
    "    Input / Output: Same as compute_distances_two_loops\"\"\"\n",
    "    return np.sqrt(np.sum(X**2, axis=1, keepdims=True) + np.sum(data**2, axis=1) - 2.*np.einsum('ij,kj->ik',X,data))"
   ]
  },
  {
   "cell_type": "code",
   "execution_count": 245,
   "metadata": {
    "collapsed": false
   },
   "outputs": [
    {
     "data": {
      "text/plain": [
       "array([[ 6280.25469229,  6412.55292376,  6383.29068741, ...,\n",
       "         6487.92170113,  6341.13152363,  6175.24274827],\n",
       "       [ 6377.76426344,  6260.5168317 ,  6459.86640729, ...,\n",
       "         6307.28261615,  6355.12493976,  6285.49290032],\n",
       "       [ 6285.34891633,  6388.13564352,  6360.75184235, ...,\n",
       "         6282.60216789,  6369.49534893,  6234.88371985],\n",
       "       ..., \n",
       "       [ 6351.24523224,  6457.6684647 ,  6387.41285655, ...,\n",
       "         6302.57621929,  6441.8261386 ,  6360.20219804],\n",
       "       [ 6307.5241577 ,  6290.77666111,  6427.11117066, ...,\n",
       "         6349.16388196,  6308.64827043,  6315.5979131 ],\n",
       "       [ 6420.03816188,  6309.68319331,  6311.81772551, ...,\n",
       "         6404.38888576,  6342.34310015,  6407.09840724]])"
      ]
     },
     "execution_count": 245,
     "metadata": {},
     "output_type": "execute_result"
    }
   ],
   "source": [
    "np.sqrt(np.sum(X**2, axis=1, keepdims=True) + np.sum(data**2, axis=1) - 2.*np.einsum('ij,kj->ik',X,data))"
   ]
  },
  {
   "cell_type": "code",
   "execution_count": 246,
   "metadata": {
    "collapsed": false
   },
   "outputs": [
    {
     "data": {
      "text/plain": [
       "array([[ 6280.25469229,  6412.55292376,  6383.29068741, ...,\n",
       "         6487.92170113,  6341.13152363,  6175.24274827],\n",
       "       [ 6377.76426344,  6260.5168317 ,  6459.86640729, ...,\n",
       "         6307.28261615,  6355.12493976,  6285.49290032],\n",
       "       [ 6285.34891633,  6388.13564352,  6360.75184235, ...,\n",
       "         6282.60216789,  6369.49534893,  6234.88371985],\n",
       "       ..., \n",
       "       [ 6351.24523224,  6457.6684647 ,  6387.41285655, ...,\n",
       "         6302.57621929,  6441.8261386 ,  6360.20219804],\n",
       "       [ 6307.5241577 ,  6290.77666111,  6427.11117066, ...,\n",
       "         6349.16388196,  6308.64827043,  6315.5979131 ],\n",
       "       [ 6420.03816188,  6309.68319331,  6311.81772551, ...,\n",
       "         6404.38888576,  6342.34310015,  6407.09840724]])"
      ]
     },
     "execution_count": 246,
     "metadata": {},
     "output_type": "execute_result"
    }
   ],
   "source": [
    "np.sqrt(np.sum(X**2, axis=1)[:,np.newaxis] + np.sum(data**2, axis=1) - 2.*np.einsum('ij,kj->ik',X,data))"
   ]
  },
  {
   "cell_type": "code",
   "execution_count": 72,
   "metadata": {
    "collapsed": false
   },
   "outputs": [
    {
     "ename": "ValueError",
     "evalue": "operands could not be broadcast together with shapes (6,5) (3,5) (6,3) ",
     "output_type": "error",
     "traceback": [
      "\u001b[1;31m---------------------------------------------------------------------------\u001b[0m",
      "\u001b[1;31mValueError\u001b[0m                                Traceback (most recent call last)",
      "\u001b[1;32m<ipython-input-72-04d27e229c08>\u001b[0m in \u001b[0;36m<module>\u001b[1;34m()\u001b[0m\n\u001b[0;32m      1\u001b[0m \u001b[0ma\u001b[0m \u001b[1;33m=\u001b[0m \u001b[0mnp\u001b[0m\u001b[1;33m.\u001b[0m\u001b[0mzeros\u001b[0m\u001b[1;33m(\u001b[0m\u001b[1;33m(\u001b[0m\u001b[0mi\u001b[0m\u001b[1;33m,\u001b[0m\u001b[0mi\u001b[0m\u001b[1;33m/\u001b[0m\u001b[1;36m2\u001b[0m\u001b[1;33m)\u001b[0m\u001b[1;33m)\u001b[0m\u001b[1;33m\u001b[0m\u001b[0m\n\u001b[1;32m----> 2\u001b[1;33m \u001b[0mnp\u001b[0m\u001b[1;33m.\u001b[0m\u001b[0msubtract\u001b[0m\u001b[1;33m(\u001b[0m\u001b[0mdata\u001b[0m\u001b[1;33m,\u001b[0m \u001b[0mX\u001b[0m\u001b[1;33m,\u001b[0m \u001b[0ma\u001b[0m\u001b[1;33m)\u001b[0m\u001b[1;33m\u001b[0m\u001b[0m\n\u001b[0m",
      "\u001b[1;31mValueError\u001b[0m: operands could not be broadcast together with shapes (6,5) (3,5) (6,3) "
     ]
    }
   ],
   "source": [
    "a = np.zeros((i,i/2))\n",
    "np.subtract(data, X, a)"
   ]
  },
  {
   "cell_type": "code",
   "execution_count": 157,
   "metadata": {
    "collapsed": false
   },
   "outputs": [
    {
     "data": {
      "text/plain": [
       "9.9"
      ]
     },
     "execution_count": 157,
     "metadata": {},
     "output_type": "execute_result"
    }
   ],
   "source": [
    "2.5+7.4"
   ]
  },
  {
   "cell_type": "code",
   "execution_count": 159,
   "metadata": {
    "collapsed": true
   },
   "outputs": [],
   "source": [
    "a=0"
   ]
  },
  {
   "cell_type": "code",
   "execution_count": 160,
   "metadata": {
    "collapsed": false
   },
   "outputs": [],
   "source": [
    "a = data - X[:, np.newaxis]"
   ]
  },
  {
   "cell_type": "code",
   "execution_count": 153,
   "metadata": {
    "collapsed": false
   },
   "outputs": [
    {
     "data": {
      "text/plain": [
       "(500L, 5000L, 370L)"
      ]
     },
     "execution_count": 153,
     "metadata": {},
     "output_type": "execute_result"
    }
   ],
   "source": [
    "a.shape"
   ]
  },
  {
   "cell_type": "code",
   "execution_count": 97,
   "metadata": {
    "collapsed": true
   },
   "outputs": [],
   "source": [
    "from math import log"
   ]
  },
  {
   "cell_type": "code",
   "execution_count": 164,
   "metadata": {
    "collapsed": false
   },
   "outputs": [
    {
     "data": {
      "text/plain": [
       "'7.400000e+10'"
      ]
     },
     "execution_count": 164,
     "metadata": {},
     "output_type": "execute_result"
    }
   ],
   "source": [
    "'{:e}'.format(500*5000*3700*64//8)"
   ]
  },
  {
   "cell_type": "code",
   "execution_count": 94,
   "metadata": {
    "collapsed": false
   },
   "outputs": [
    {
     "data": {
      "text/plain": [
       "(50L, 500L, 370L)"
      ]
     },
     "execution_count": 94,
     "metadata": {},
     "output_type": "execute_result"
    }
   ],
   "source": [
    "a.shape"
   ]
  },
  {
   "cell_type": "code",
   "execution_count": 240,
   "metadata": {
    "collapsed": false
   },
   "outputs": [],
   "source": [
    "i = 5000\n",
    "j = 3700\n",
    "data = np.random.randint(0,256,(i,j)).astype('int')\n",
    "X = np.random.randint(0,256,(i/10,j)).astype('int')"
   ]
  },
  {
   "cell_type": "code",
   "execution_count": 241,
   "metadata": {
    "collapsed": false
   },
   "outputs": [
    {
     "name": "stdout",
     "output_type": "stream",
     "text": [
      "1 loops, best of 3: 7.29 s per loop\n"
     ]
    }
   ],
   "source": [
    "%%timeit\n",
    "jit_loop(data,X)"
   ]
  },
  {
   "cell_type": "code",
   "execution_count": 242,
   "metadata": {
    "collapsed": false
   },
   "outputs": [
    {
     "name": "stdout",
     "output_type": "stream",
     "text": [
      "1 loops, best of 3: 3.1 s per loop\n"
     ]
    }
   ],
   "source": [
    "%%timeit\n",
    "compute_distances_no_loops(data,X)"
   ]
  },
  {
   "cell_type": "code",
   "execution_count": 243,
   "metadata": {
    "collapsed": false
   },
   "outputs": [
    {
     "name": "stdout",
     "output_type": "stream",
     "text": [
      "1 loops, best of 3: 3.07 s per loop\n"
     ]
    }
   ],
   "source": [
    "%%timeit\n",
    "compute_distances_one_loop(data,X)"
   ]
  },
  {
   "cell_type": "code",
   "execution_count": 244,
   "metadata": {
    "collapsed": false
   },
   "outputs": [
    {
     "name": "stdout",
     "output_type": "stream",
     "text": [
      "1 loops, best of 3: 25.4 s per loop\n"
     ]
    }
   ],
   "source": [
    "%%timeit\n",
    "compute_distances_two_loops(data,X)"
   ]
  },
  {
   "cell_type": "code",
   "execution_count": 188,
   "metadata": {
    "collapsed": true
   },
   "outputs": [],
   "source": [
    "x2 = np.sum(data**2, axis=1, keepdims=True)\n",
    "y2 = np.sum(X**2, axis=1)\n",
    "xy = np.dot(data, X.T)\n",
    "dist = np.sqrt(x2 - 2*xy + y2)"
   ]
  },
  {
   "cell_type": "code",
   "execution_count": 170,
   "metadata": {
    "collapsed": false
   },
   "outputs": [
    {
     "name": "stdout",
     "output_type": "stream",
     "text": [
      "(5000L, 370L)\n",
      "(500L, 370L)\n"
     ]
    }
   ],
   "source": [
    "print data.shape\n",
    "print X.shape"
   ]
  },
  {
   "cell_type": "code",
   "execution_count": 171,
   "metadata": {
    "collapsed": false
   },
   "outputs": [
    {
     "data": {
      "text/plain": [
       "(5000L, 500L)"
      ]
     },
     "execution_count": 171,
     "metadata": {},
     "output_type": "execute_result"
    }
   ],
   "source": [
    "xy.shape"
   ]
  },
  {
   "cell_type": "code",
   "execution_count": 220,
   "metadata": {
    "collapsed": true
   },
   "outputs": [],
   "source": [
    "dist = compute_distances_no_loops(data,X)"
   ]
  },
  {
   "cell_type": "code",
   "execution_count": 221,
   "metadata": {
    "collapsed": false
   },
   "outputs": [],
   "source": [
    "dist2 = jit_loop(data,X)"
   ]
  },
  {
   "cell_type": "code",
   "execution_count": 222,
   "metadata": {
    "collapsed": false
   },
   "outputs": [
    {
     "data": {
      "text/plain": [
       "True"
      ]
     },
     "execution_count": 222,
     "metadata": {},
     "output_type": "execute_result"
    }
   ],
   "source": [
    "np.allclose(dist, dist2)"
   ]
  },
  {
   "cell_type": "code",
   "execution_count": null,
   "metadata": {
    "collapsed": true
   },
   "outputs": [],
   "source": []
  }
 ],
 "metadata": {
  "kernelspec": {
   "display_name": "Python 2",
   "language": "python",
   "name": "python2"
  },
  "language_info": {
   "codemirror_mode": {
    "name": "ipython",
    "version": 2
   },
   "file_extension": ".py",
   "mimetype": "text/x-python",
   "name": "python",
   "nbconvert_exporter": "python",
   "pygments_lexer": "ipython2",
   "version": "2.7.11"
  }
 },
 "nbformat": 4,
 "nbformat_minor": 0
}
