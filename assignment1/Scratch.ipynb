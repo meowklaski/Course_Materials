{
 "cells": [
  {
   "cell_type": "code",
   "execution_count": 1,
   "metadata": {
    "collapsed": true
   },
   "outputs": [],
   "source": [
    "%load_ext autoreload\n",
    "%autoreload 2"
   ]
  },
  {
   "cell_type": "code",
   "execution_count": 124,
   "metadata": {
    "collapsed": true
   },
   "outputs": [],
   "source": [
    "import numpy as np\n",
    "from numba import jit\n",
    "from __future__ import division\n",
    "from cs231n.classifiers.softmax import softmax_loss_naive, softmax_loss_vectorized"
   ]
  },
  {
   "cell_type": "code",
   "execution_count": 87,
   "metadata": {
    "collapsed": true
   },
   "outputs": [],
   "source": [
    "from itertools import product"
   ]
  },
  {
   "cell_type": "code",
   "execution_count": 127,
   "metadata": {
    "collapsed": false
   },
   "outputs": [],
   "source": [
    "N = 100\n",
    "D = 1000\n",
    "C = 10\n",
    "W = np.arange(C*D).reshape(D,C).astype(float)\n",
    "X = np.arange(N*D).reshape(N,D).astype(float)\n",
    "y = np.random.randint(0,C,size=N)\n",
    "reg = 1."
   ]
  },
  {
   "cell_type": "code",
   "execution_count": 117,
   "metadata": {
    "collapsed": false
   },
   "outputs": [
    {
     "name": "stdout",
     "output_type": "stream",
     "text": [
      "[[ 0.  1.  1.]\n",
      " [ 0.  1.  1.]\n",
      " [ 0.  0.  0.]\n",
      " [ 0.  0.  1.]\n",
      " [ 0.  0.  1.]]\n",
      "[ 2.  2.  0.  1.  1.]\n",
      "[[   0.   10.   80.]\n",
      " [   0.   12.   84.]\n",
      " [   0.   14.   88.]\n",
      " [   0.   16.   92.]\n",
      " [   0.   18.   96.]\n",
      " [   0.   20.  100.]\n",
      " [   0.   22.  104.]\n",
      " [   0.   24.  108.]\n",
      " [   0.   26.  112.]\n",
      " [   0.   28.  116.]]\n",
      "[[ -20.  -60.   80.]\n",
      " [ -24.  -60.   84.]\n",
      " [ -28.  -60.   88.]\n",
      " [ -32.  -60.   92.]\n",
      " [ -36.  -60.   96.]\n",
      " [ -40.  -60.  100.]\n",
      " [ -44.  -60.  104.]\n",
      " [ -48.  -60.  108.]\n",
      " [ -52.  -60.  112.]\n",
      " [ -56.  -60.  116.]]\n"
     ]
    }
   ],
   "source": [
    "num_train = X.shape[0]\n",
    "scores = X.dot(W)  # NxC\n",
    "correct_labels = (np.array(range(len(y))), y)  # locations in scores where j = y[i]\n",
    "correct_class_scores = scores[correct_labels]  # Nx1\n",
    "\n",
    "M = scores - correct_class_scores[:, np.newaxis] + 1  # NxC margins\n",
    "not_thresh = np.where(M <= 0)\n",
    "Lij = M\n",
    "Lij[not_thresh] = 0\n",
    "Lij[correct_labels] = 0\n",
    "\n",
    "loss = np.sum(Lij)/X.shape[0] + 0.5*reg*np.sum(W * W)\n",
    "\n",
    "TMP = np.ones(M.shape)\n",
    "TMP[not_thresh] = 0\n",
    "TMP[correct_labels] = 0 # NxC; 1 where margin > 0\n",
    "print TMP\n",
    "# contributions from j != y[i]\n",
    "dW = X.T.dot(TMP)  # np.einsum('ij,ik->kj',TMP,X)\n",
    "\n",
    "# contributions from j = y[i]\n",
    "cnts = TMP.sum(axis=-1)\n",
    "print cnts\n",
    "print dW\n",
    "for i in xrange(num_train):\n",
    "    dW[:, y[i]] -= cnts[i]*X[i]\n",
    "print dW\n",
    "dW1 = dW/num_train + 2*reg*W"
   ]
  },
  {
   "cell_type": "code",
   "execution_count": 120,
   "metadata": {
    "collapsed": false
   },
   "outputs": [
    {
     "name": "stdout",
     "output_type": "stream",
     "text": [
      "[[-2.  1.  1.]\n",
      " [-2.  1.  1.]\n",
      " [ 0.  0. -0.]\n",
      " [ 0. -1.  1.]\n",
      " [ 0. -1.  1.]]\n",
      "[[ -20.  -60.   80.]\n",
      " [ -24.  -60.   84.]\n",
      " [ -28.  -60.   88.]\n",
      " [ -32.  -60.   92.]\n",
      " [ -36.  -60.   96.]\n",
      " [ -40.  -60.  100.]\n",
      " [ -44.  -60.  104.]\n",
      " [ -48.  -60.  108.]\n",
      " [ -52.  -60.  112.]\n",
      " [ -56.  -60.  116.]]\n"
     ]
    }
   ],
   "source": [
    "num_train = X.shape[0]\n",
    "scores = X.dot(W)  # NxC\n",
    "correct_labels = (np.array(range(len(y))), y)  # locations in scores where j = y[i]\n",
    "correct_class_scores = scores[correct_labels]  # Nx1\n",
    "\n",
    "M = scores - correct_class_scores[:, np.newaxis] + 1  # NxC margins\n",
    "not_thresh = np.where(M <= 0)\n",
    "Lij = M\n",
    "Lij[not_thresh] = 0\n",
    "Lij[correct_labels] = 0\n",
    "\n",
    "loss = np.sum(Lij)/X.shape[0] + 0.5*reg*np.sum(W * W)\n",
    "\n",
    "TMP = np.ones(M.shape)\n",
    "TMP[not_thresh] = 0\n",
    "TMP[correct_labels] = 0\n",
    "TMP[correct_labels] =  -1*TMP.sum(axis=-1) # NxC; 1 where margin > 0\n",
    "print TMP\n",
    "# contributions from j != y[i]\n",
    "dW = X.T.dot(TMP)  # np.einsum('ij,ik->kj',TMP,X)\n",
    "print dW\n",
    "# contributions from j = y[i]\n",
    "# cnts = TMP.sum(axis=-1)\n",
    "# for i in xrange(num_train):\n",
    "#     dW[:, y[i]] -= cnts[i]*X[i]\n",
    "\n",
    "dW2 = dW/num_train + 2*reg*W"
   ]
  },
  {
   "cell_type": "code",
   "execution_count": 121,
   "metadata": {
    "collapsed": false
   },
   "outputs": [
    {
     "data": {
      "text/plain": [
       "True"
      ]
     },
     "execution_count": 121,
     "metadata": {},
     "output_type": "execute_result"
    }
   ],
   "source": [
    "np.allclose(dW1, dW2)"
   ]
  },
  {
   "cell_type": "code",
   "execution_count": 98,
   "metadata": {
    "collapsed": false
   },
   "outputs": [
    {
     "name": "stderr",
     "output_type": "stream",
     "text": [
      "C:\\Anaconda\\lib\\site-packages\\ipykernel\\__main__.py:9: RuntimeWarning: divide by zero encountered in log\n"
     ]
    }
   ],
   "source": [
    "dW = np.zeros_like(W)\n",
    "scores = X.dot(W)\n",
    "max_scores = np.max(scores, axis=1, keepdims=True)\n",
    "exp_scores = np.exp(scores - max_scores)\n",
    "probs = exp_scores/np.sum(exp_scores, axis=1, keepdims=True)\n",
    "\n",
    "label_locs = tuple([np.arange(X.shape[0]), np.array([y[i] for i in xrange(X.shape[0])],dtype='int64')])\n",
    "label_locs = zip(*[(i,y[i]) for i in xrange(X.shape[0])])\n",
    "loss = -np.sum(np.log(probs[label_locs]))/X.shape[0] + 0.5*reg*np.sum(W*W)\n",
    "probs[label_locs] = probs[label_locs]-1.\n",
    "dW = X.T.dot(probs) #np.einsum('ij,ik->kj',probs,X)\n",
    "dW = dW/X.shape[0] + 2*reg*W"
   ]
  },
  {
   "cell_type": "code",
   "execution_count": 72,
   "metadata": {
    "collapsed": false
   },
   "outputs": [],
   "source": [
    "probs[label_locs] = probs[label_locs]-1."
   ]
  },
  {
   "cell_type": "code",
   "execution_count": 79,
   "metadata": {
    "collapsed": false
   },
   "outputs": [
    {
     "data": {
      "text/plain": [
       "True"
      ]
     },
     "execution_count": 79,
     "metadata": {},
     "output_type": "execute_result"
    }
   ],
   "source": [
    "np.allclose(dW,dW1)"
   ]
  },
  {
   "cell_type": "code",
   "execution_count": 80,
   "metadata": {
    "collapsed": false
   },
   "outputs": [
    {
     "data": {
      "text/plain": [
       "(10L, 3L)"
      ]
     },
     "execution_count": 80,
     "metadata": {},
     "output_type": "execute_result"
    }
   ],
   "source": [
    "probs.shape"
   ]
  },
  {
   "cell_type": "code",
   "execution_count": null,
   "metadata": {
    "collapsed": true
   },
   "outputs": [],
   "source": []
  },
  {
   "cell_type": "code",
   "execution_count": 100,
   "metadata": {
    "collapsed": false
   },
   "outputs": [
    {
     "name": "stdout",
     "output_type": "stream",
     "text": [
      "100 loops, best of 3: 4.84 ms per loop\n"
     ]
    }
   ],
   "source": [
    "%%timeit\n",
    "loss1, dW1 = softmax_loss_naive(W,X,y,reg)"
   ]
  },
  {
   "cell_type": "code",
   "execution_count": 123,
   "metadata": {
    "collapsed": false
   },
   "outputs": [
    {
     "name": "stdout",
     "output_type": "stream",
     "text": [
      "1000 loops, best of 3: 218 µs per loop\n"
     ]
    },
    {
     "name": "stderr",
     "output_type": "stream",
     "text": [
      "cs231n\\classifiers\\softmax.py:81: RuntimeWarning: divide by zero encountered in log\n",
      "  loss = -np.sum(np.log(probs[label_locs]))/X.shape[0] + 0.5*reg*np.sum(W*W)\n"
     ]
    }
   ],
   "source": [
    "%%timeit\n",
    "loss2, dW2 = softmax_loss_vectorized(W,X,y,reg)"
   ]
  },
  {
   "cell_type": "code",
   "execution_count": 128,
   "metadata": {
    "collapsed": false
   },
   "outputs": [
    {
     "name": "stdout",
     "output_type": "stream",
     "text": [
      "100 loops, best of 3: 12.9 ms per loop\n"
     ]
    }
   ],
   "source": [
    "%%timeit\n",
    "loss2, dW2 = softmax_loss_vectorized(W,X,y,reg)"
   ]
  },
  {
   "cell_type": "code",
   "execution_count": 85,
   "metadata": {
    "collapsed": false
   },
   "outputs": [
    {
     "data": {
      "text/plain": [
       "True"
      ]
     },
     "execution_count": 85,
     "metadata": {},
     "output_type": "execute_result"
    }
   ],
   "source": [
    "np.allclose(dW1,dW2)"
   ]
  },
  {
   "cell_type": "code",
   "execution_count": 62,
   "metadata": {
    "collapsed": false
   },
   "outputs": [
    {
     "data": {
      "text/plain": [
       "614.00000454009603"
      ]
     },
     "execution_count": 62,
     "metadata": {},
     "output_type": "execute_result"
    }
   ],
   "source": [
    "loss1"
   ]
  },
  {
   "cell_type": "code",
   "execution_count": 9,
   "metadata": {
    "collapsed": false
   },
   "outputs": [],
   "source": [
    "scores = X[0].dot(W)\n",
    "max_score = np.max(scores)\n",
    "exp_scores = np.exp(scores - max_score)\n",
    "probs = exp_scores/np.sum(exp_scores)"
   ]
  },
  {
   "cell_type": "code",
   "execution_count": 13,
   "metadata": {
    "collapsed": false
   },
   "outputs": [
    {
     "data": {
      "text/plain": [
       "0.99995460007033099"
      ]
     },
     "execution_count": 13,
     "metadata": {},
     "output_type": "execute_result"
    }
   ],
   "source": [
    "probs"
   ]
  },
  {
   "cell_type": "code",
   "execution_count": 12,
   "metadata": {
    "collapsed": false
   },
   "outputs": [
    {
     "ename": "TypeError",
     "evalue": "'int' object has no attribute '__getitem__'",
     "output_type": "error",
     "traceback": [
      "\u001b[1;31m---------------------------------------------------------------------------\u001b[0m",
      "\u001b[1;31mTypeError\u001b[0m                                 Traceback (most recent call last)",
      "\u001b[1;32m<ipython-input-12-a75f09924994>\u001b[0m in \u001b[0;36m<module>\u001b[1;34m()\u001b[0m\n\u001b[1;32m----> 1\u001b[1;33m \u001b[0mnp\u001b[0m\u001b[1;33m.\u001b[0m\u001b[0mlog\u001b[0m\u001b[1;33m(\u001b[0m\u001b[0mprobs\u001b[0m\u001b[1;33m[\u001b[0m\u001b[0my\u001b[0m\u001b[1;33m[\u001b[0m\u001b[1;36m0\u001b[0m\u001b[1;33m]\u001b[0m\u001b[1;33m]\u001b[0m\u001b[1;33m)\u001b[0m\u001b[1;33m\u001b[0m\u001b[0m\n\u001b[0m",
      "\u001b[1;31mTypeError\u001b[0m: 'int' object has no attribute '__getitem__'"
     ]
    }
   ],
   "source": [
    "np.log(probs[y[0]])"
   ]
  },
  {
   "cell_type": "code",
   "execution_count": 13,
   "metadata": {
    "collapsed": false
   },
   "outputs": [
    {
     "data": {
      "text/plain": [
       "array([6, 1])"
      ]
     },
     "execution_count": 13,
     "metadata": {},
     "output_type": "execute_result"
    }
   ],
   "source": [
    "a[[(1,0),(1,1)]]"
   ]
  },
  {
   "cell_type": "code",
   "execution_count": 6,
   "metadata": {
    "collapsed": false
   },
   "outputs": [
    {
     "data": {
      "text/plain": [
       "array([[ 0,  1,  2,  3,  4],\n",
       "       [ 5,  6,  7,  8,  9],\n",
       "       [10, 11, 12, 13, 14]])"
      ]
     },
     "execution_count": 6,
     "metadata": {},
     "output_type": "execute_result"
    }
   ],
   "source": [
    "a"
   ]
  },
  {
   "cell_type": "code",
   "execution_count": 8,
   "metadata": {
    "collapsed": false
   },
   "outputs": [
    {
     "data": {
      "text/plain": [
       "array([4, 4, 4], dtype=int64)"
      ]
     },
     "execution_count": 8,
     "metadata": {},
     "output_type": "execute_result"
    }
   ],
   "source": [
    "np.argmax(a,axis=1)"
   ]
  },
  {
   "cell_type": "markdown",
   "metadata": {},
   "source": [
    "## loop"
   ]
  },
  {
   "cell_type": "code",
   "execution_count": 233,
   "metadata": {
    "collapsed": true
   },
   "outputs": [],
   "source": [
    "reg = 1.\n",
    "X = np.arange(15).reshape(3,5)\n",
    "W = np.arange(10).reshape(5,2)\n",
    "y = np.array([1,0,0])\n",
    "scores = X.dot(W)\n",
    "correct_labels = (np.array(range(len(y))),y)\n",
    "correct_scores = np.array([scores[i,k] for i,k in enumerate(y)])"
   ]
  },
  {
   "cell_type": "code",
   "execution_count": 239,
   "metadata": {
    "collapsed": false
   },
   "outputs": [
    {
     "name": "stdout",
     "output_type": "stream",
     "text": [
      "36\n",
      "61\n",
      "[[-15.  15.]\n",
      " [-17.  17.]\n",
      " [-19.  19.]\n",
      " [-21.  21.]\n",
      " [-23.  23.]]\n"
     ]
    }
   ],
   "source": [
    "dW = np.zeros(W.shape)  # initialize the gradient as zero\n",
    "\n",
    "# compute the loss and the gradient\n",
    "num_classes = W.shape[1]\n",
    "num_train = X.shape[0]\n",
    "\n",
    "loss = 0.0\n",
    "for i in xrange(num_train):\n",
    "    scores = X[i].dot(W)\n",
    "    correct_class_score = scores[y[i]]\n",
    "    for j in xrange(num_classes):\n",
    "        cnt = 0\n",
    "        if j == y[i]:\n",
    "            continue\n",
    "        margin = scores[j] - correct_class_score + 1  # note delta = 1\n",
    "        if margin > 0:\n",
    "            print margin\n",
    "            loss += margin\n",
    "            dW[:, j] += X[i]\n",
    "            cnt -= 1\n",
    "    dW[:, y[i]] += cnt*X[i]\n",
    "    \n",
    "print dW\n",
    "loss /= num_train\n",
    "dW /= num_train\n",
    "\n",
    "# Add regularization to the loss.\n",
    "loss += 0.5 * reg * np.sum(W * W)\n",
    "dW += 2*reg*W"
   ]
  },
  {
   "cell_type": "code",
   "execution_count": 242,
   "metadata": {
    "collapsed": false
   },
   "outputs": [
    {
     "data": {
      "text/plain": [
       "array([[ -5.        ,   7.        ,  -5.        ],\n",
       "       [ -1.66666667,  11.66666667,  -1.66666667],\n",
       "       [  1.66666667,  16.33333333,   1.66666667],\n",
       "       [  5.        ,  21.        ,   5.        ],\n",
       "       [  8.33333333,  25.66666667,   8.33333333]])"
      ]
     },
     "execution_count": 242,
     "metadata": {},
     "output_type": "execute_result"
    }
   ],
   "source": [
    "dW[:,(0,1,0)]"
   ]
  },
  {
   "cell_type": "code",
   "execution_count": 241,
   "metadata": {
    "collapsed": false
   },
   "outputs": [
    {
     "data": {
      "text/plain": [
       "array([[ -5.        ,   7.        ],\n",
       "       [ -1.66666667,  11.66666667],\n",
       "       [  1.66666667,  16.33333333],\n",
       "       [  5.        ,  21.        ],\n",
       "       [  8.33333333,  25.66666667]])"
      ]
     },
     "execution_count": 241,
     "metadata": {},
     "output_type": "execute_result"
    }
   ],
   "source": [
    "dW2"
   ]
  },
  {
   "cell_type": "markdown",
   "metadata": {},
   "source": [
    "# vector"
   ]
  },
  {
   "cell_type": "code",
   "execution_count": 176,
   "metadata": {
    "collapsed": false
   },
   "outputs": [],
   "source": [
    "X = np.arange(15).reshape(3,5)\n",
    "W = np.arange(10).reshape(5,2)\n",
    "y = np.array([1,0,0])\n",
    "scores = X.dot(W)\n",
    "correct_labels = (np.array(range(len(y))),y)\n",
    "correct_scores = np.array([scores[i,k] for i,k in enumerate(y)])"
   ]
  },
  {
   "cell_type": "code",
   "execution_count": 177,
   "metadata": {
    "collapsed": false
   },
   "outputs": [
    {
     "data": {
      "text/plain": [
       "array([[ 60,  70],\n",
       "       [160, 195],\n",
       "       [260, 320]])"
      ]
     },
     "execution_count": 177,
     "metadata": {},
     "output_type": "execute_result"
    }
   ],
   "source": [
    "scores"
   ]
  },
  {
   "cell_type": "code",
   "execution_count": 178,
   "metadata": {
    "collapsed": false
   },
   "outputs": [
    {
     "data": {
      "text/plain": [
       "array([[ 0,  0],\n",
       "       [ 0, 36],\n",
       "       [ 0, 61]])"
      ]
     },
     "execution_count": 178,
     "metadata": {},
     "output_type": "execute_result"
    }
   ],
   "source": [
    "M"
   ]
  },
  {
   "cell_type": "code",
   "execution_count": 179,
   "metadata": {
    "collapsed": false
   },
   "outputs": [],
   "source": [
    "M = scores - correct_scores[:,np.newaxis] + 1\n",
    "not_thresh = np.where(M <= 0)"
   ]
  },
  {
   "cell_type": "code",
   "execution_count": 193,
   "metadata": {
    "collapsed": false
   },
   "outputs": [
    {
     "name": "stdout",
     "output_type": "stream",
     "text": [
      "[[ 0  0]\n",
      " [ 0 36]\n",
      " [ 0 61]]\n"
     ]
    }
   ],
   "source": [
    "L = M.copy()\n",
    "\n",
    "L[not_thresh] = 0\n",
    "L[correct_labels] = 0\n",
    "print L\n",
    "loss = np.sum(L)/X.shape[0] + 0.5*reg*np.sum(W * W)"
   ]
  },
  {
   "cell_type": "code",
   "execution_count": 185,
   "metadata": {
    "collapsed": false
   },
   "outputs": [
    {
     "data": {
      "text/plain": [
       "32.333333333333336"
      ]
     },
     "execution_count": 185,
     "metadata": {},
     "output_type": "execute_result"
    }
   ],
   "source": [
    "np.sum(L)/3."
   ]
  },
  {
   "cell_type": "code",
   "execution_count": 195,
   "metadata": {
    "collapsed": false
   },
   "outputs": [],
   "source": [
    "dW = np.zeros(W.shape)\n",
    "TMP = np.ones(M.shape)\n",
    "TMP[not_thresh] = 0\n",
    "TMP[correct_labels] = 0"
   ]
  },
  {
   "cell_type": "code",
   "execution_count": 211,
   "metadata": {
    "collapsed": false
   },
   "outputs": [
    {
     "name": "stdout",
     "output_type": "stream",
     "text": [
      "The slowest run took 75.02 times longer than the fastest. This could mean that an intermediate result is being cached \n",
      "1000000 loops, best of 3: 1.19 µs per loop\n"
     ]
    }
   ],
   "source": [
    "%%timeit\n",
    "(X.T).dot(TMP)"
   ]
  },
  {
   "cell_type": "code",
   "execution_count": 212,
   "metadata": {
    "collapsed": false
   },
   "outputs": [
    {
     "name": "stdout",
     "output_type": "stream",
     "text": [
      "The slowest run took 10.72 times longer than the fastest. This could mean that an intermediate result is being cached \n",
      "100000 loops, best of 3: 2.05 µs per loop\n"
     ]
    }
   ],
   "source": [
    "%%timeit\n",
    "np.einsum('ij,ik->kj',TMP,X)"
   ]
  },
  {
   "cell_type": "code",
   "execution_count": 237,
   "metadata": {
    "collapsed": false
   },
   "outputs": [],
   "source": [
    "TMP[not_thresh] = 0\n",
    "TMP[correct_labels] = 0\n",
    "dW = (X.T).dot(TMP) # np.einsum('ij,ik->kj',TMP,X)\n",
    "num_train = X.shape[0]\n",
    "cnts = TMP.sum(axis=-1)\n",
    "for i in xrange(num_train):\n",
    "    dW[:, y[i]] -= cnts[i]*X[i]\n",
    "# dWyi = -1*(X.T).dot(TMP[np.newaxis,:])\n",
    "\n",
    "dW = dW/num_train + 2*reg*W"
   ]
  },
  {
   "cell_type": "code",
   "execution_count": 243,
   "metadata": {
    "collapsed": false
   },
   "outputs": [
    {
     "data": {
      "text/plain": [
       "array([[ 0,  1,  2,  3,  4],\n",
       "       [ 5,  6,  7,  8,  9],\n",
       "       [10, 11, 12, 13, 14]])"
      ]
     },
     "execution_count": 243,
     "metadata": {},
     "output_type": "execute_result"
    }
   ],
   "source": [
    "X"
   ]
  },
  {
   "cell_type": "code",
   "execution_count": 249,
   "metadata": {
    "collapsed": false
   },
   "outputs": [
    {
     "data": {
      "text/plain": [
       "array([[  0.,   0.,   0.,   0.,   0.],\n",
       "       [  5.,   6.,   7.,   8.,   9.],\n",
       "       [ 10.,  11.,  12.,  13.,  14.]])"
      ]
     },
     "execution_count": 249,
     "metadata": {},
     "output_type": "execute_result"
    }
   ],
   "source": [
    "np.einsum('i,ij->ij',cnts,X)"
   ]
  },
  {
   "cell_type": "code",
   "execution_count": 250,
   "metadata": {
    "collapsed": false
   },
   "outputs": [
    {
     "data": {
      "text/plain": [
       "array([ 0.,  1.,  1.])"
      ]
     },
     "execution_count": 250,
     "metadata": {},
     "output_type": "execute_result"
    }
   ],
   "source": [
    "cnts"
   ]
  },
  {
   "cell_type": "code",
   "execution_count": 204,
   "metadata": {
    "collapsed": false
   },
   "outputs": [
    {
     "data": {
      "text/plain": [
       "array([[[  0.,   0.],\n",
       "        [  0.,   0.],\n",
       "        [  0.,   0.],\n",
       "        [  0.,   0.],\n",
       "        [  0.,   0.]],\n",
       "\n",
       "       [[  0.,   5.],\n",
       "        [  0.,   6.],\n",
       "        [  0.,   7.],\n",
       "        [  0.,   8.],\n",
       "        [  0.,   9.]],\n",
       "\n",
       "       [[  0.,  10.],\n",
       "        [  0.,  11.],\n",
       "        [  0.,  12.],\n",
       "        [  0.,  13.],\n",
       "        [  0.,  14.]]])"
      ]
     },
     "execution_count": 204,
     "metadata": {},
     "output_type": "execute_result"
    }
   ],
   "source": [
    "np.einsum('ij,ik->ikj',TMP,X)"
   ]
  },
  {
   "cell_type": "code",
   "execution_count": 205,
   "metadata": {
    "collapsed": false
   },
   "outputs": [
    {
     "data": {
      "text/plain": [
       "array([[  0.,  15.],\n",
       "       [  0.,  17.],\n",
       "       [  0.,  19.],\n",
       "       [  0.,  21.],\n",
       "       [  0.,  23.]])"
      ]
     },
     "execution_count": 205,
     "metadata": {},
     "output_type": "execute_result"
    }
   ],
   "source": [
    "np.einsum('ij,ik->kj',TMP,X)"
   ]
  },
  {
   "cell_type": "code",
   "execution_count": 122,
   "metadata": {
    "collapsed": false
   },
   "outputs": [
    {
     "data": {
      "text/plain": [
       "array([-9])"
      ]
     },
     "execution_count": 122,
     "metadata": {},
     "output_type": "execute_result"
    }
   ],
   "source": [
    "M[loc]"
   ]
  },
  {
   "cell_type": "code",
   "execution_count": 82,
   "metadata": {
    "collapsed": false
   },
   "outputs": [
    {
     "ename": "SyntaxError",
     "evalue": "can't assign to function call (<ipython-input-82-2e82b29b698d>, line 1)",
     "output_type": "error",
     "traceback": [
      "\u001b[0;36m  File \u001b[0;32m\"<ipython-input-82-2e82b29b698d>\"\u001b[0;36m, line \u001b[0;32m1\u001b[0m\n\u001b[0;31m    scores.diagonal() = 0\u001b[0m\n\u001b[0;31mSyntaxError\u001b[0m\u001b[0;31m:\u001b[0m can't assign to function call\n"
     ]
    }
   ],
   "source": [
    "scores.diagonal() = 0"
   ]
  },
  {
   "cell_type": "code",
   "execution_count": 78,
   "metadata": {
    "collapsed": false
   },
   "outputs": [
    {
     "data": {
      "text/plain": [
       "array([[ 60,  60],\n",
       "       [160, 160],\n",
       "       [260, 260]])"
      ]
     },
     "execution_count": 78,
     "metadata": {},
     "output_type": "execute_result"
    }
   ],
   "source": [
    "scores[:,np.array([0,0])]"
   ]
  },
  {
   "cell_type": "code",
   "execution_count": 62,
   "metadata": {
    "collapsed": false
   },
   "outputs": [
    {
     "data": {
      "text/plain": [
       "60"
      ]
     },
     "execution_count": 62,
     "metadata": {},
     "output_type": "execute_result"
    }
   ],
   "source": [
    "scores[0,0]"
   ]
  },
  {
   "cell_type": "code",
   "execution_count": 55,
   "metadata": {
    "collapsed": false
   },
   "outputs": [
    {
     "data": {
      "text/plain": [
       "array([[60, 70],\n",
       "       [60, 70]])"
      ]
     },
     "execution_count": 55,
     "metadata": {},
     "output_type": "execute_result"
    }
   ],
   "source": [
    "scores[np.array([(0),(0)])]"
   ]
  },
  {
   "cell_type": "code",
   "execution_count": 72,
   "metadata": {
    "collapsed": false
   },
   "outputs": [],
   "source": [
    "correct_scores = np.array([scores[i,k] for i,k in enumerate(y)])"
   ]
  },
  {
   "cell_type": "code",
   "execution_count": 73,
   "metadata": {
    "collapsed": false
   },
   "outputs": [
    {
     "data": {
      "text/plain": [
       "array([ 70, 160, 260])"
      ]
     },
     "execution_count": 73,
     "metadata": {},
     "output_type": "execute_result"
    }
   ],
   "source": [
    "correct_scores"
   ]
  },
  {
   "cell_type": "code",
   "execution_count": 22,
   "metadata": {
    "collapsed": false
   },
   "outputs": [
    {
     "data": {
      "text/plain": [
       "'1.10.2'"
      ]
     },
     "execution_count": 22,
     "metadata": {},
     "output_type": "execute_result"
    }
   ],
   "source": [
    "np.__version__"
   ]
  },
  {
   "cell_type": "code",
   "execution_count": 9,
   "metadata": {
    "collapsed": false
   },
   "outputs": [
    {
     "name": "stdout",
     "output_type": "stream",
     "text": [
      "[[ 0  1  2  3  4]\n",
      " [ 5  6  7  8  9]\n",
      " [10 11 12 13 14]]\n",
      "[[0 1]\n",
      " [2 3]\n",
      " [4 5]\n",
      " [6 7]\n",
      " [8 9]]\n"
     ]
    }
   ],
   "source": [
    "print(X)\n",
    "print(W)"
   ]
  },
  {
   "cell_type": "code",
   "execution_count": 23,
   "metadata": {
    "collapsed": false
   },
   "outputs": [
    {
     "data": {
      "text/plain": [
       "array([[ 60,  70],\n",
       "       [160, 195],\n",
       "       [260, 320]])"
      ]
     },
     "execution_count": 23,
     "metadata": {},
     "output_type": "execute_result"
    }
   ],
   "source": [
    "\n",
    "X.dot(W)"
   ]
  },
  {
   "cell_type": "code",
   "execution_count": 25,
   "metadata": {
    "collapsed": false
   },
   "outputs": [
    {
     "data": {
      "text/plain": [
       "array([160, 195])"
      ]
     },
     "execution_count": 25,
     "metadata": {},
     "output_type": "execute_result"
    }
   ],
   "source": [
    "\n",
    "X[1].dot(W)"
   ]
  },
  {
   "cell_type": "code",
   "execution_count": 19,
   "metadata": {
    "collapsed": false
   },
   "outputs": [
    {
     "name": "stdout",
     "output_type": "stream",
     "text": [
      "The slowest run took 13.23 times longer than the fastest. This could mean that an intermediate result is being cached \n",
      "1000000 loops, best of 3: 1.44 µs per loop\n"
     ]
    }
   ],
   "source": [
    "%%timeit\n",
    "np.einsum('ij,jk', X,W)"
   ]
  },
  {
   "cell_type": "code",
   "execution_count": 12,
   "metadata": {
    "collapsed": false
   },
   "outputs": [
    {
     "data": {
      "text/plain": [
       "array([160, 195])"
      ]
     },
     "execution_count": 12,
     "metadata": {},
     "output_type": "execute_result"
    }
   ],
   "source": [
    "scores"
   ]
  },
  {
   "cell_type": "code",
   "execution_count": 235,
   "metadata": {
    "collapsed": false
   },
   "outputs": [],
   "source": [
    "@jit\n",
    "def jit_loop(train, test):\n",
    "    \"\"\"\n",
    "    Compute the distance between each test point in test and each training point\n",
    "    in train using a nested loop over both the training data and the\n",
    "    test data.\n",
    "\n",
    "    Inputs:\n",
    "    - test: A numpy array of shape (num_test, D) containing test data.\n",
    "\n",
    "    Returns:\n",
    "    - dists: A numpy array of shape (num_test, num_train) where dists[i, j]\n",
    "      is the Euclidean distance between the ith test point and the jth training\n",
    "      point. \"\"\"\n",
    "    num_test = test.shape[0]\n",
    "    num_train = train.shape[0]\n",
    "    dists = np.zeros((num_test, num_train))\n",
    "    dim = test.shape[1]\n",
    "    for i in range(num_test):\n",
    "        for j in range(num_train):\n",
    "            sum_ = 0\n",
    "            for k in range(dim):\n",
    "                x = train[j, k] - test[i, k]\n",
    "                sum_ += x*x\n",
    "            dists[i,j] = sum_\n",
    "    return np.sqrt(dists)\n",
    "\n",
    "def compute_distances_two_loops(data, X):\n",
    "    \"\"\"\n",
    "    Compute the distance between each test point in X and each training point\n",
    "    in data using a nested loop over both the training data and the\n",
    "    test data.\n",
    "\n",
    "    Inputs:\n",
    "    - X: A numpy array of shape (num_test, D) containing test data.\n",
    "\n",
    "    Returns:\n",
    "    - dists: A numpy array of shape (num_test, num_train) where dists[i, j]\n",
    "      is the Euclidean distance between the ith test point and the jth training\n",
    "      point. \"\"\"\n",
    "    num_test = X.shape[0]\n",
    "    num_train = data.shape[0]\n",
    "    dists = np.zeros((num_test, num_train))\n",
    "    for i in xrange(num_test):\n",
    "        for j in xrange(num_train):\n",
    "            dists[i,j] = np.sum((data[j] - X[i])**2.)\n",
    "    return np.sqrt(dists)\n",
    "\n",
    "def compute_distances_one_loop(data, X):\n",
    "    \"\"\"\n",
    "    Compute the distance between each test point in X and each training point\n",
    "    in data using a single loop over the test data.\n",
    "\n",
    "    Input / Output: Same as compute_distances_two_loops \"\"\"\n",
    "    num_test = X.shape[0]\n",
    "    num_train = data.shape[0]\n",
    "    dists = np.zeros((num_test, num_train))\n",
    "    d2 = np.sum(data**2, axis=1)\n",
    "    for i in xrange(num_test):\n",
    "        dists[i,:] = d2 + np.sum(X[i,:]**2.) - 2.*np.einsum('ij,j->i', data, X[i,:])\n",
    "    return np.sqrt(dists)\n",
    "\n",
    "def compute_distances_no_loops_bad(data, X):\n",
    "    \"\"\"\n",
    "    Compute the distance between each test point in X and each training point\n",
    "    in data using no explicit loops.\n",
    "\n",
    "    Input / Output: Same as compute_distances_two_loops\"\"\"\n",
    "    return np.sqrt(np.sum((data - X[:, np.newaxis])**2.,axis=-1))\n",
    "\n",
    "def compute_distances_no_loops(data, X):\n",
    "    \"\"\"\n",
    "    Compute the distance between each test point in X and each training point\n",
    "    in data using no explicit loops.\n",
    "\n",
    "    Input / Output: Same as compute_distances_two_loops\"\"\"\n",
    "    return np.sqrt(np.sum(X**2, axis=1, keepdims=True) + np.sum(data**2, axis=1) - 2.*np.einsum('ij,kj->ik',X,data))"
   ]
  },
  {
   "cell_type": "code",
   "execution_count": 245,
   "metadata": {
    "collapsed": false
   },
   "outputs": [
    {
     "data": {
      "text/plain": [
       "array([[ 6280.25469229,  6412.55292376,  6383.29068741, ...,\n",
       "         6487.92170113,  6341.13152363,  6175.24274827],\n",
       "       [ 6377.76426344,  6260.5168317 ,  6459.86640729, ...,\n",
       "         6307.28261615,  6355.12493976,  6285.49290032],\n",
       "       [ 6285.34891633,  6388.13564352,  6360.75184235, ...,\n",
       "         6282.60216789,  6369.49534893,  6234.88371985],\n",
       "       ..., \n",
       "       [ 6351.24523224,  6457.6684647 ,  6387.41285655, ...,\n",
       "         6302.57621929,  6441.8261386 ,  6360.20219804],\n",
       "       [ 6307.5241577 ,  6290.77666111,  6427.11117066, ...,\n",
       "         6349.16388196,  6308.64827043,  6315.5979131 ],\n",
       "       [ 6420.03816188,  6309.68319331,  6311.81772551, ...,\n",
       "         6404.38888576,  6342.34310015,  6407.09840724]])"
      ]
     },
     "execution_count": 245,
     "metadata": {},
     "output_type": "execute_result"
    }
   ],
   "source": [
    "np.sqrt(np.sum(X**2, axis=1, keepdims=True) + np.sum(data**2, axis=1) - 2.*np.einsum('ij,kj->ik',X,data))"
   ]
  },
  {
   "cell_type": "code",
   "execution_count": 246,
   "metadata": {
    "collapsed": false
   },
   "outputs": [
    {
     "data": {
      "text/plain": [
       "array([[ 6280.25469229,  6412.55292376,  6383.29068741, ...,\n",
       "         6487.92170113,  6341.13152363,  6175.24274827],\n",
       "       [ 6377.76426344,  6260.5168317 ,  6459.86640729, ...,\n",
       "         6307.28261615,  6355.12493976,  6285.49290032],\n",
       "       [ 6285.34891633,  6388.13564352,  6360.75184235, ...,\n",
       "         6282.60216789,  6369.49534893,  6234.88371985],\n",
       "       ..., \n",
       "       [ 6351.24523224,  6457.6684647 ,  6387.41285655, ...,\n",
       "         6302.57621929,  6441.8261386 ,  6360.20219804],\n",
       "       [ 6307.5241577 ,  6290.77666111,  6427.11117066, ...,\n",
       "         6349.16388196,  6308.64827043,  6315.5979131 ],\n",
       "       [ 6420.03816188,  6309.68319331,  6311.81772551, ...,\n",
       "         6404.38888576,  6342.34310015,  6407.09840724]])"
      ]
     },
     "execution_count": 246,
     "metadata": {},
     "output_type": "execute_result"
    }
   ],
   "source": [
    "np.sqrt(np.sum(X**2, axis=1)[:,np.newaxis] + np.sum(data**2, axis=1) - 2.*np.einsum('ij,kj->ik',X,data))"
   ]
  },
  {
   "cell_type": "code",
   "execution_count": 72,
   "metadata": {
    "collapsed": false
   },
   "outputs": [
    {
     "ename": "ValueError",
     "evalue": "operands could not be broadcast together with shapes (6,5) (3,5) (6,3) ",
     "output_type": "error",
     "traceback": [
      "\u001b[1;31m---------------------------------------------------------------------------\u001b[0m",
      "\u001b[1;31mValueError\u001b[0m                                Traceback (most recent call last)",
      "\u001b[1;32m<ipython-input-72-04d27e229c08>\u001b[0m in \u001b[0;36m<module>\u001b[1;34m()\u001b[0m\n\u001b[0;32m      1\u001b[0m \u001b[0ma\u001b[0m \u001b[1;33m=\u001b[0m \u001b[0mnp\u001b[0m\u001b[1;33m.\u001b[0m\u001b[0mzeros\u001b[0m\u001b[1;33m(\u001b[0m\u001b[1;33m(\u001b[0m\u001b[0mi\u001b[0m\u001b[1;33m,\u001b[0m\u001b[0mi\u001b[0m\u001b[1;33m/\u001b[0m\u001b[1;36m2\u001b[0m\u001b[1;33m)\u001b[0m\u001b[1;33m)\u001b[0m\u001b[1;33m\u001b[0m\u001b[0m\n\u001b[1;32m----> 2\u001b[1;33m \u001b[0mnp\u001b[0m\u001b[1;33m.\u001b[0m\u001b[0msubtract\u001b[0m\u001b[1;33m(\u001b[0m\u001b[0mdata\u001b[0m\u001b[1;33m,\u001b[0m \u001b[0mX\u001b[0m\u001b[1;33m,\u001b[0m \u001b[0ma\u001b[0m\u001b[1;33m)\u001b[0m\u001b[1;33m\u001b[0m\u001b[0m\n\u001b[0m",
      "\u001b[1;31mValueError\u001b[0m: operands could not be broadcast together with shapes (6,5) (3,5) (6,3) "
     ]
    }
   ],
   "source": [
    "a = np.zeros((i,i/2))\n",
    "np.subtract(data, X, a)"
   ]
  },
  {
   "cell_type": "code",
   "execution_count": 157,
   "metadata": {
    "collapsed": false
   },
   "outputs": [
    {
     "data": {
      "text/plain": [
       "9.9"
      ]
     },
     "execution_count": 157,
     "metadata": {},
     "output_type": "execute_result"
    }
   ],
   "source": [
    "2.5+7.4"
   ]
  },
  {
   "cell_type": "code",
   "execution_count": 159,
   "metadata": {
    "collapsed": true
   },
   "outputs": [],
   "source": [
    "a=0"
   ]
  },
  {
   "cell_type": "code",
   "execution_count": 160,
   "metadata": {
    "collapsed": false
   },
   "outputs": [],
   "source": [
    "a = data - X[:, np.newaxis]"
   ]
  },
  {
   "cell_type": "code",
   "execution_count": 153,
   "metadata": {
    "collapsed": false
   },
   "outputs": [
    {
     "data": {
      "text/plain": [
       "(500L, 5000L, 370L)"
      ]
     },
     "execution_count": 153,
     "metadata": {},
     "output_type": "execute_result"
    }
   ],
   "source": [
    "a.shape"
   ]
  },
  {
   "cell_type": "code",
   "execution_count": 97,
   "metadata": {
    "collapsed": true
   },
   "outputs": [],
   "source": [
    "from math import log"
   ]
  },
  {
   "cell_type": "code",
   "execution_count": 164,
   "metadata": {
    "collapsed": false
   },
   "outputs": [
    {
     "data": {
      "text/plain": [
       "'7.400000e+10'"
      ]
     },
     "execution_count": 164,
     "metadata": {},
     "output_type": "execute_result"
    }
   ],
   "source": [
    "'{:e}'.format(500*5000*3700*64//8)"
   ]
  },
  {
   "cell_type": "code",
   "execution_count": 94,
   "metadata": {
    "collapsed": false
   },
   "outputs": [
    {
     "data": {
      "text/plain": [
       "(50L, 500L, 370L)"
      ]
     },
     "execution_count": 94,
     "metadata": {},
     "output_type": "execute_result"
    }
   ],
   "source": [
    "a.shape"
   ]
  },
  {
   "cell_type": "code",
   "execution_count": 240,
   "metadata": {
    "collapsed": false
   },
   "outputs": [],
   "source": [
    "i = 5000\n",
    "j = 3700\n",
    "data = np.random.randint(0,256,(i,j)).astype('int')\n",
    "X = np.random.randint(0,256,(i/10,j)).astype('int')"
   ]
  },
  {
   "cell_type": "code",
   "execution_count": 241,
   "metadata": {
    "collapsed": false
   },
   "outputs": [
    {
     "name": "stdout",
     "output_type": "stream",
     "text": [
      "1 loops, best of 3: 7.29 s per loop\n"
     ]
    }
   ],
   "source": [
    "%%timeit\n",
    "jit_loop(data,X)"
   ]
  },
  {
   "cell_type": "code",
   "execution_count": 242,
   "metadata": {
    "collapsed": false
   },
   "outputs": [
    {
     "name": "stdout",
     "output_type": "stream",
     "text": [
      "1 loops, best of 3: 3.1 s per loop\n"
     ]
    }
   ],
   "source": [
    "%%timeit\n",
    "compute_distances_no_loops(data,X)"
   ]
  },
  {
   "cell_type": "code",
   "execution_count": 243,
   "metadata": {
    "collapsed": false
   },
   "outputs": [
    {
     "name": "stdout",
     "output_type": "stream",
     "text": [
      "1 loops, best of 3: 3.07 s per loop\n"
     ]
    }
   ],
   "source": [
    "%%timeit\n",
    "compute_distances_one_loop(data,X)"
   ]
  },
  {
   "cell_type": "code",
   "execution_count": 244,
   "metadata": {
    "collapsed": false
   },
   "outputs": [
    {
     "name": "stdout",
     "output_type": "stream",
     "text": [
      "1 loops, best of 3: 25.4 s per loop\n"
     ]
    }
   ],
   "source": [
    "%%timeit\n",
    "compute_distances_two_loops(data,X)"
   ]
  },
  {
   "cell_type": "code",
   "execution_count": 188,
   "metadata": {
    "collapsed": true
   },
   "outputs": [],
   "source": [
    "x2 = np.sum(data**2, axis=1, keepdims=True)\n",
    "y2 = np.sum(X**2, axis=1)\n",
    "xy = np.dot(data, X.T)\n",
    "dist = np.sqrt(x2 - 2*xy + y2)"
   ]
  },
  {
   "cell_type": "code",
   "execution_count": 170,
   "metadata": {
    "collapsed": false
   },
   "outputs": [
    {
     "name": "stdout",
     "output_type": "stream",
     "text": [
      "(5000L, 370L)\n",
      "(500L, 370L)\n"
     ]
    }
   ],
   "source": [
    "print data.shape\n",
    "print X.shape"
   ]
  },
  {
   "cell_type": "code",
   "execution_count": 171,
   "metadata": {
    "collapsed": false
   },
   "outputs": [
    {
     "data": {
      "text/plain": [
       "(5000L, 500L)"
      ]
     },
     "execution_count": 171,
     "metadata": {},
     "output_type": "execute_result"
    }
   ],
   "source": [
    "xy.shape"
   ]
  },
  {
   "cell_type": "code",
   "execution_count": 220,
   "metadata": {
    "collapsed": true
   },
   "outputs": [],
   "source": [
    "dist = compute_distances_no_loops(data,X)"
   ]
  },
  {
   "cell_type": "code",
   "execution_count": 221,
   "metadata": {
    "collapsed": false
   },
   "outputs": [],
   "source": [
    "dist2 = jit_loop(data,X)"
   ]
  },
  {
   "cell_type": "code",
   "execution_count": 222,
   "metadata": {
    "collapsed": false
   },
   "outputs": [
    {
     "data": {
      "text/plain": [
       "True"
      ]
     },
     "execution_count": 222,
     "metadata": {},
     "output_type": "execute_result"
    }
   ],
   "source": [
    "np.allclose(dist, dist2)"
   ]
  },
  {
   "cell_type": "code",
   "execution_count": null,
   "metadata": {
    "collapsed": true
   },
   "outputs": [],
   "source": []
  }
 ],
 "metadata": {
  "kernelspec": {
   "display_name": "Python 2",
   "language": "python",
   "name": "python2"
  },
  "language_info": {
   "codemirror_mode": {
    "name": "ipython",
    "version": 2
   },
   "file_extension": ".py",
   "mimetype": "text/x-python",
   "name": "python",
   "nbconvert_exporter": "python",
   "pygments_lexer": "ipython2",
   "version": "2.7.11"
  }
 },
 "nbformat": 4,
 "nbformat_minor": 0
}
