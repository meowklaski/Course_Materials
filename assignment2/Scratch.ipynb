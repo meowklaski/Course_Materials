{
 "cells": [
  {
   "cell_type": "code",
   "execution_count": 1,
   "metadata": {
    "collapsed": true
   },
   "outputs": [],
   "source": [
    "import os\n",
    "import numpy as np\n",
    "from itertools import product\n",
    "from scipy.signal import fftconvolve, convolve"
   ]
  },
  {
   "cell_type": "markdown",
   "metadata": {},
   "source": [
    "# Convolutions"
   ]
  },
  {
   "cell_type": "code",
   "execution_count": 401,
   "metadata": {
    "collapsed": false
   },
   "outputs": [],
   "source": [
    "x = np.arange(10*10*10*10).reshape(10,10, 10, 10)"
   ]
  },
  {
   "cell_type": "code",
   "execution_count": 394,
   "metadata": {
    "collapsed": false
   },
   "outputs": [
    {
     "name": "stdout",
     "output_type": "stream",
     "text": [
      "The slowest run took 9.67 times longer than the fastest. This could mean that an intermediate result is being cached \n",
      "1000000 loops, best of 3: 1.46 µs per loop\n"
     ]
    }
   ],
   "source": [
    "%%timeit\n",
    "np.flipud(np.fliplr(x))"
   ]
  },
  {
   "cell_type": "code",
   "execution_count": 402,
   "metadata": {
    "collapsed": false
   },
   "outputs": [
    {
     "name": "stdout",
     "output_type": "stream",
     "text": [
      "The slowest run took 8.19 times longer than the fastest. This could mean that an intermediate result is being cached \n",
      "1000000 loops, best of 3: 1.83 µs per loop\n"
     ]
    }
   ],
   "source": [
    "%%timeit\n",
    "flip_ndarray(x)"
   ]
  },
  {
   "cell_type": "code",
   "execution_count": 2,
   "metadata": {
    "collapsed": true
   },
   "outputs": [],
   "source": [
    "def flip_ndarray(x):\n",
    "    loc = tuple(slice(None, None,-1) for i in xrange(x.ndim))\n",
    "    return x[loc]"
   ]
  },
  {
   "cell_type": "code",
   "execution_count": 3,
   "metadata": {
    "collapsed": false
   },
   "outputs": [],
   "source": [
    "def my_convd(dat, kernel, stride=1, pad=0):\n",
    "    \"\"\" Perform a dot-product convolution of a n-dim kernel with n-dim data\"\"\"\n",
    "    assert stride > 0\n",
    "    assert dat.ndim == kernel.ndim\n",
    "    stride = int(round(stride))\n",
    "    \n",
    "    outshape = (np.array(dat.shape)-np.array(kernel.shape)+2.*pad)/stride+1.\n",
    "    for num in outshape:\n",
    "        assert (num).is_integer(), num\n",
    "    outshape = np.round(outshape).astype(int)\n",
    "    \n",
    "    if pad:\n",
    "        dat = np.pad(dat, pad, mode='constant')\n",
    "\n",
    "    out = np.zeros(outshape, dtype=dat.dtype)\n",
    "    indices = range(dat.ndim)\n",
    "    for i,x in enumerate(product(*[stride*np.arange(i) for i in outshape])):\n",
    "        slices = tuple(slice(start, start+kernel.shape[i]) for i,start in enumerate(x))\n",
    "        loc = np.unravel_index(i, outshape)\n",
    "        out[loc] = np.einsum(dat[slices], indices, kernel, indices)\n",
    "\n",
    "    return out"
   ]
  },
  {
   "cell_type": "code",
   "execution_count": 28,
   "metadata": {
    "collapsed": false
   },
   "outputs": [],
   "source": [
    "def old_multi_layer_conv(data, kernel, stride, pad, channels=True):\n",
    "    if data.ndim == kernel.ndim:\n",
    "        return my_convd(data, kernel, stride, pad)\n",
    "    dat = data[0]\n",
    "    assert stride > 0\n",
    "    assert dat.ndim == kernel.ndim\n",
    "    stride = int(round(stride))\n",
    "    \n",
    "    npad = np.array([0]+[pad for i in xrange(dat.ndim-1)])\n",
    "    outshape = (np.array(dat.shape)-np.array(kernel.shape)+2.*npad)/float(stride)+1.\n",
    "    for num in outshape:\n",
    "        assert (num).is_integer(), num\n",
    "    outshape = np.round(outshape).astype(int)\n",
    "    \n",
    "    total_out_shape = tuple([data.shape[0]]+[i for i in outshape])\n",
    "    total_out = np.zeros(total_out_shape, dtype=data.dtype)\n",
    "    \n",
    "    indices = range(dat.ndim)\n",
    "    all_pos = list(product(*[stride*np.arange(i) for i in outshape]))\n",
    "    all_slices = [tuple(slice(start, start+kernel.shape[i]) for i,start in enumerate(x)) for x in all_pos]\n",
    "    \n",
    "    if pad and channels:\n",
    "        pad = [(0,0)] + [(pad, pad) for i in xrange(dat.ndim-1)]\n",
    "    for n, dat in enumerate(data):\n",
    "        if pad:\n",
    "            dat = np.pad(dat, pad, mode='constant').astype(dat.dtype)\n",
    "        out = np.zeros(outshape, dtype=data.dtype)\n",
    "        for i,slices in enumerate(all_slices):\n",
    "            loc = np.unravel_index(i, outshape)\n",
    "            out[loc] = np.einsum(dat[slices], indices, kernel, indices)\n",
    "        total_out[n] = out\n",
    "    return total_out"
   ]
  },
  {
   "cell_type": "code",
   "execution_count": null,
   "metadata": {
    "collapsed": true
   },
   "outputs": [],
   "source": [
    "def = get_outshape(dat, kernel, stride, channels=True):\n",
    "    assert stride > 0\n",
    "    assert dat.ndim == kernel.ndim\n",
    "    stride = int(round(stride))\n",
    "    outshape = (np.array(dat.shape)-np.array(kernel.shape))/stride+1.\n",
    "    for num in outshape:\n",
    "        assert (num).is_integer(), num\n",
    "    outshape = np.round(outshape).astype(int)\n",
    "    \n",
    "    return outshape\n",
    "    "
   ]
  },
  {
   "cell_type": "code",
   "execution_count": 5,
   "metadata": {
    "collapsed": true
   },
   "outputs": [],
   "source": [
    "def fast_convolve(dat, kernel, stride, pad, flip_kernel=True, outshape=None, channels=True):\n",
    "    if np.max(dat.shape) >= 500:\n",
    "        conv = fftconvolve\n",
    "    else:\n",
    "        conv = convolve\n",
    "    if outshape is None:\n",
    "        assert stride > 0\n",
    "        assert dat.ndim == kernel.ndim\n",
    "        stride = int(round(stride))\n",
    "        outshape = (np.array(dat.shape)-np.array(kernel.shape)+2.*pad)/stride+1.\n",
    "        for num in outshape:\n",
    "            assert (num).is_integer(), num\n",
    "        outshape = np.round(outshape).astype(int)\n",
    "        \n",
    "        if channels:\n",
    "            outshape[0] = 1\n",
    "        print outshape\n",
    "    \n",
    "    all_pos = zip(*product(*(stride*np.arange(i) for i in outshape)))\n",
    "    out = np.zeros(outshape, dtype=dat.dtype)\n",
    "    \n",
    "    if pad:\n",
    "        if channels:\n",
    "            pad = [(0,0)] + [(pad, pad) for i in xrange(dat.ndim-1)]\n",
    "        dat = np.pad(dat, pad, mode='constant').astype(dat.dtype)\n",
    "    \n",
    "    if flip_kernel:\n",
    "        kernel = flip_ndarray(kernel)\n",
    "    full_conv = conv(dat, kernel, mode='valid')\n",
    "    \n",
    "    if stride == 1:\n",
    "        return full_conv\n",
    "    \n",
    "    out.flat = full_conv[all_pos]\n",
    "    return out"
   ]
  },
  {
   "cell_type": "code",
   "execution_count": 6,
   "metadata": {
    "collapsed": true
   },
   "outputs": [],
   "source": [
    "def back_prop_dw(data, dy, w, stride, pad):\n",
    "    if flip_kernel:\n",
    "        kernel = flip_ndarray(kernel)\n",
    "    for n, dat in enumerate(data):\n",
    "        if n == 0:  # initialize output and stride information\n",
    "\n",
    "            if outshape is None:\n",
    "                assert dat.ndim == kernel.ndim\n",
    "                stride = int(round(stride))\n",
    "\n",
    "                npad = np.array([0]+[pad for i in xrange(dat.ndim-1)])\n",
    "                outshape = (np.array(dat.shape)-np.array(kernel.shape)+2.*npad)/float(stride)+1.\n",
    "                \n",
    "                for num in outshape:\n",
    "                    assert (num).is_integer(), num\n",
    "                outshape = np.round(outshape).astype(int)\n",
    "            \n",
    "            if pad:\n",
    "                pad = [(0, 0)] + [(pad, pad) for i in xrange(dat.ndim-1)]\n",
    "\n",
    "\n",
    "        indices = range(dat.ndim)\n",
    "        all_pos = list(product(*[stride*np.arange(i) for i in outshape]))\n",
    "        all_slices = [tuple(slice(start, start+kernel.shape[i]) for i,start in enumerate(x)) for x in all_pos]\n",
    "        \n",
    "        if pad:\n",
    "            dat = np.pad(dat, pad, mode='constant').astype(dat.dtype)\n",
    "            \n",
    "        out = np.zeros(outshape, dtype=data.dtype)\n",
    "        dw = np.zeros_like(w, dtype=w.dtype)\n",
    "        for i,slices in enumerate(all_slices):\n",
    "            loc = np.unravel_index(i, outshape)\n",
    "            dw += dy[loc]*out[slices]\n",
    "        \n",
    "    return dw"
   ]
  },
  {
   "cell_type": "code",
   "execution_count": 7,
   "metadata": {
    "collapsed": true
   },
   "outputs": [],
   "source": [
    "def back_prop_dx(data, dy, kernel, stride, pad, outshape=None):\n",
    "    if flip_kernel:\n",
    "        kernel = flip_ndarray(kernel)\n",
    "    for n, dat in enumerate(data):\n",
    "        if n == 0:  # initialize output and stride information\n",
    "\n",
    "            if outshape is None:\n",
    "                assert dat.ndim == kernel.ndim\n",
    "                stride = int(round(stride))\n",
    "\n",
    "                npad = np.array([0]+[pad for i in xrange(dat.ndim-1)])\n",
    "                outshape = (np.array(dat.shape)-np.array(kernel.shape)+2.*npad)/float(stride)+1.\n",
    "                \n",
    "                for num in outshape:\n",
    "                    assert (num).is_integer(), num\n",
    "                outshape = np.round(outshape).astype(int)\n",
    "            \n",
    "            if pad:\n",
    "                pad = [(0, 0)] + [(pad, pad) for i in xrange(dat.ndim-1)]\n",
    "\n",
    "        total_out_shape = data.shape\n",
    "        total_out = np.zeros(total_out_shape, dtype=dat.dtype)\n",
    "        indices = range(dat.ndim)\n",
    "        all_pos = list(product(*[stride*np.arange(i) for i in outshape]))\n",
    "        all_slices = [tuple(slice(start, start+kernel.shape[i]) for i,start in enumerate(x)) for x in all_pos]\n",
    "         \n",
    "        out = np.zeros(outshape, dtype=data.dtype)\n",
    "        for i,slices in enumerate(all_slices):\n",
    "            loc = np.unravel_index(i, outshape)\n",
    "            out[slices] += dy[loc]*kernel\n",
    "        if pad:\n",
    "            out = out[:, pad:-pad, pad:-pad]\n",
    "        total_out[n] = out\n",
    "    return total_out"
   ]
  },
  {
   "cell_type": "code",
   "execution_count": 434,
   "metadata": {
    "collapsed": true
   },
   "outputs": [],
   "source": [
    "x = np.arange(2).reshape(2,2)"
   ]
  },
  {
   "cell_type": "code",
   "execution_count": 540,
   "metadata": {
    "collapsed": false
   },
   "outputs": [
    {
     "data": {
      "text/plain": [
       "[1, 2]"
      ]
     },
     "execution_count": 540,
     "metadata": {},
     "output_type": "execute_result"
    }
   ],
   "source": [
    "range(4)[1:-1]"
   ]
  },
  {
   "cell_type": "code",
   "execution_count": 439,
   "metadata": {
    "collapsed": false
   },
   "outputs": [
    {
     "data": {
      "text/plain": [
       "array([[0, 0],\n",
       "       [0, 1],\n",
       "       [2, 3],\n",
       "       [0, 0]])"
      ]
     },
     "execution_count": 439,
     "metadata": {},
     "output_type": "execute_result"
    }
   ],
   "source": [
    "np.pad(x, [(1,1),(0,0)], 'constant')"
   ]
  },
  {
   "cell_type": "code",
   "execution_count": 8,
   "metadata": {
    "collapsed": true
   },
   "outputs": [],
   "source": [
    "def multi_layer_conv(data, kernel, stride, pad, flip_kernel=True, outshape=None, channels=True):\n",
    "    if flip_kernel:\n",
    "        kernel = flip_ndarray(kernel)\n",
    "    for n, dat in enumerate(data):\n",
    "        if n == 0:  # initialize output and stride information\n",
    "\n",
    "            if np.max(dat.shape) >= 500:\n",
    "                conv = fftconvolve  # use fft method for large input arrays\n",
    "            else:\n",
    "                conv = convolve\n",
    "\n",
    "            if outshape is None:\n",
    "                assert dat.ndim == kernel.ndim\n",
    "                stride = int(round(stride))\n",
    "\n",
    "                npad = np.array([0]+[pad for i in xrange(dat.ndim-1)])\n",
    "                outshape = (np.array(dat.shape)-np.array(kernel.shape)+2.*npad)/float(stride)+1.\n",
    "                \n",
    "                for num in outshape:\n",
    "                    assert (num).is_integer(), num\n",
    "                outshape = np.round(outshape).astype(int)\n",
    "            \n",
    "            if pad:\n",
    "                if channels:\n",
    "                    pad = [(0, 0)] + [(pad, pad) for i in xrange(dat.ndim-1)]\n",
    "\n",
    "            total_out_shape = tuple([data.shape[0]]+[i for i in outshape])\n",
    "            total_out = np.zeros(total_out_shape, dtype=dat.dtype)\n",
    "\n",
    "\n",
    "            all_pos = zip(*product(*(stride*np.arange(i) for i in outshape)))\n",
    "\n",
    "\n",
    "        if pad:\n",
    "            dat = np.pad(dat, pad, mode='constant').astype(dat.dtype)\n",
    "\n",
    "        full_conv = conv(dat, kernel, mode='valid')\n",
    "        if stride == 1:\n",
    "            total_out[n] = full_conv\n",
    "        else:\n",
    "            out = np.zeros(outshape, dtype=full_conv.dtype)\n",
    "            out.flat = full_conv[all_pos]\n",
    "            total_out[n] = out\n",
    "    return total_out"
   ]
  },
  {
   "cell_type": "code",
   "execution_count": 536,
   "metadata": {
    "collapsed": true
   },
   "outputs": [],
   "source": [
    "all_pos = zip(*product(*(2*np.arange(i) for i in (2,3,4))))"
   ]
  },
  {
   "cell_type": "code",
   "execution_count": 537,
   "metadata": {
    "collapsed": false
   },
   "outputs": [
    {
     "data": {
      "text/plain": [
       "[(0, 0, 0, 0, 0, 0, 0, 0, 0, 0, 0, 0, 2, 2, 2, 2, 2, 2, 2, 2, 2, 2, 2, 2),\n",
       " (0, 0, 0, 0, 2, 2, 2, 2, 4, 4, 4, 4, 0, 0, 0, 0, 2, 2, 2, 2, 4, 4, 4, 4),\n",
       " (0, 2, 4, 6, 0, 2, 4, 6, 0, 2, 4, 6, 0, 2, 4, 6, 0, 2, 4, 6, 0, 2, 4, 6)]"
      ]
     },
     "execution_count": 537,
     "metadata": {},
     "output_type": "execute_result"
    }
   ],
   "source": [
    "all_pos"
   ]
  },
  {
   "cell_type": "code",
   "execution_count": 508,
   "metadata": {
    "collapsed": false
   },
   "outputs": [],
   "source": [
    "dat = np.arange(1,17, dtype=float).reshape(4,4)\n",
    "kernel = np.ones((2,2), dtype=float)\n",
    "dat = np.arange(250*250*3, dtype=float).reshape(250,250,3)\n",
    "kernel = np.random.rand(*(2,2,3))\n",
    "stride = 2\n",
    "pad = 0\n",
    "\n",
    "outshape = (np.array(dat.shape)-np.array(kernel.shape)+2.*pad)/stride+1.\n",
    "for num in outshape:\n",
    "    assert (num).is_integer(), num\n",
    "outshape = np.round(outshape).astype(int)\n",
    "all_pos = zip(*product(*(stride*np.arange(i) for i in outshape)))"
   ]
  },
  {
   "cell_type": "code",
   "execution_count": 541,
   "metadata": {
    "collapsed": false
   },
   "outputs": [],
   "source": [
    "dat = np.arange(5*5*3,dtype=float).reshape(3,5,5)\n",
    "kernel = np.ones((3,3,3), dtype=float)\n",
    "stride = 2\n",
    "pad = 1\n",
    "# big = n.concatenate([dat, 2*dat]).reshape(-1,4,4)"
   ]
  },
  {
   "cell_type": "code",
   "execution_count": 45,
   "metadata": {
    "collapsed": true
   },
   "outputs": [],
   "source": [
    "x = np.random.rand(3,7,7)"
   ]
  },
  {
   "cell_type": "code",
   "execution_count": 47,
   "metadata": {
    "collapsed": false
   },
   "outputs": [
    {
     "data": {
      "text/plain": [
       "(3, 3, 3)"
      ]
     },
     "execution_count": 47,
     "metadata": {},
     "output_type": "execute_result"
    }
   ],
   "source": []
  },
  {
   "cell_type": "code",
   "execution_count": 510,
   "metadata": {
    "collapsed": false
   },
   "outputs": [],
   "source": [
    "w = np.random.rand(2,3,4,4)\n",
    "x = np.random.rand(3,3,4,4)\n",
    "conv_param = {'pad':1,'stride': 2}"
   ]
  },
  {
   "cell_type": "code",
   "execution_count": 29,
   "metadata": {
    "collapsed": false
   },
   "outputs": [],
   "source": [
    "dat = np.arange(1,17).reshape(4,4)\n",
    "kernel = np.ones((4,2))\n",
    "big = np.concatenate([dat, 2*dat]).reshape(-1,4,4)"
   ]
  },
  {
   "cell_type": "code",
   "execution_count": 36,
   "metadata": {
    "collapsed": false
   },
   "outputs": [
    {
     "data": {
      "text/plain": [
       "(1, 5)"
      ]
     },
     "execution_count": 36,
     "metadata": {},
     "output_type": "execute_result"
    }
   ],
   "source": [
    "multi_layer_conv(big, kernel, 1, 1)[0].shape"
   ]
  },
  {
   "cell_type": "code",
   "execution_count": 32,
   "metadata": {
    "collapsed": false
   },
   "outputs": [
    {
     "data": {
      "text/plain": [
       "array([[[ 28,  60,  68,  76,  40]],\n",
       "\n",
       "       [[ 56, 120, 136, 152,  80]]])"
      ]
     },
     "execution_count": 32,
     "metadata": {},
     "output_type": "execute_result"
    }
   ],
   "source": [
    "old_multi_layer_conv(big,kernel,1,1)"
   ]
  },
  {
   "cell_type": "code",
   "execution_count": 535,
   "metadata": {
    "collapsed": false
   },
   "outputs": [
    {
     "name": "stdout",
     "output_type": "stream",
     "text": [
      "(3, 3, 4, 4)\n",
      "(2, 3, 4, 4)\n",
      "{'stride': 2, 'pad': 1}\n",
      "(3, 2, 2, 2)\n",
      "0\n",
      "(3, 1, 2, 2)\n",
      "1\n",
      "(3, 1, 2, 2)\n"
     ]
    }
   ],
   "source": [
    "tmp = 1. + (np.array(x.shape[2:]) + 2*conv_param['pad'] - np.array(w.shape[2:]))/conv_param['stride']\n",
    "out = np.zeros((x.shape[0], w.shape[0], int(round(tmp[0])), int(round(tmp[1]))), dtype = float)\n",
    "print x.shape\n",
    "print w.shape\n",
    "print conv_param\n",
    "print out.shape\n",
    "outshape = None\n",
    "for n, kernel in enumerate(w):\n",
    "    print n\n",
    "    new = multi_layer_conv(x, kernel, conv_param['stride'], conv_param['pad'], outshape=outshape, channels=True)\n",
    "    print new.shape\n",
    "    out[:, n:n+1, :, :] = multi_layer_conv(x, kernel, conv_param['stride'], conv_param['pad'], outshape=outshape, channels=True)\n",
    "\n",
    "#     outshape = out[:, n, :, :].shape\n",
    "    \n",
    "#     out[:, n, :, :] += b[n]"
   ]
  },
  {
   "cell_type": "code",
   "execution_count": 523,
   "metadata": {
    "collapsed": false
   },
   "outputs": [
    {
     "data": {
      "text/plain": [
       "array([[[[ 6.48260056,  5.57298688],\n",
       "         [ 7.4158236 ,  6.92183953]]],\n",
       "\n",
       "\n",
       "       [[[ 7.07337669,  6.99860426],\n",
       "         [ 7.10489032,  5.67299177]]],\n",
       "\n",
       "\n",
       "       [[[ 4.4244933 ,  4.50384234],\n",
       "         [ 4.99216288,  4.38133357]]]])"
      ]
     },
     "execution_count": 523,
     "metadata": {},
     "output_type": "execute_result"
    }
   ],
   "source": [
    "new"
   ]
  },
  {
   "cell_type": "code",
   "execution_count": 533,
   "metadata": {
    "collapsed": false
   },
   "outputs": [],
   "source": [
    "out[:, n:n+1, :, :] = new "
   ]
  },
  {
   "cell_type": "code",
   "execution_count": 534,
   "metadata": {
    "collapsed": false
   },
   "outputs": [
    {
     "data": {
      "text/plain": [
       "array([[[[ 6.48260056,  5.57298688],\n",
       "         [ 7.4158236 ,  6.92183953]],\n",
       "\n",
       "        [[ 0.        ,  0.        ],\n",
       "         [ 0.        ,  0.        ]]],\n",
       "\n",
       "\n",
       "       [[[ 7.07337669,  6.99860426],\n",
       "         [ 7.10489032,  5.67299177]],\n",
       "\n",
       "        [[ 0.        ,  0.        ],\n",
       "         [ 0.        ,  0.        ]]],\n",
       "\n",
       "\n",
       "       [[[ 4.4244933 ,  4.50384234],\n",
       "         [ 4.99216288,  4.38133357]],\n",
       "\n",
       "        [[ 0.        ,  0.        ],\n",
       "         [ 0.        ,  0.        ]]]])"
      ]
     },
     "execution_count": 534,
     "metadata": {},
     "output_type": "execute_result"
    }
   ],
   "source": [
    "out"
   ]
  },
  {
   "cell_type": "code",
   "execution_count": 379,
   "metadata": {
    "collapsed": false
   },
   "outputs": [
    {
     "data": {
      "text/plain": [
       "3"
      ]
     },
     "execution_count": 379,
     "metadata": {},
     "output_type": "execute_result"
    }
   ],
   "source": [
    "big.ndim"
   ]
  },
  {
   "cell_type": "code",
   "execution_count": 380,
   "metadata": {
    "collapsed": false
   },
   "outputs": [
    {
     "data": {
      "text/plain": [
       "array([[[   1.,    3.,    5.,    7.,    4.],\n",
       "        [   6.,   14.,   18.,   22.,   12.],\n",
       "        [  14.,   30.,   34.,   38.,   20.],\n",
       "        [  22.,   46.,   50.,   54.,   28.],\n",
       "        [  13.,   27.,   29.,   31.,   16.]],\n",
       "\n",
       "       [[   2.,    6.,   10.,   14.,    8.],\n",
       "        [  12.,   28.,   36.,   44.,   24.],\n",
       "        [  28.,   60.,   68.,   76.,   40.],\n",
       "        [  44.,   92.,  100.,  108.,   56.],\n",
       "        [  26.,   54.,   58.,   62.,   32.]]])"
      ]
     },
     "execution_count": 380,
     "metadata": {},
     "output_type": "execute_result"
    }
   ],
   "source": [
    "multi_layer_conv(big, kernel, stride, pad)"
   ]
  },
  {
   "cell_type": "code",
   "execution_count": 381,
   "metadata": {
    "collapsed": false
   },
   "outputs": [
    {
     "data": {
      "text/plain": [
       "array([[[   1.,    3.,    5.,    7.,    4.],\n",
       "        [   6.,   14.,   18.,   22.,   12.],\n",
       "        [  14.,   30.,   34.,   38.,   20.],\n",
       "        [  22.,   46.,   50.,   54.,   28.],\n",
       "        [  13.,   27.,   29.,   31.,   16.]],\n",
       "\n",
       "       [[   2.,    6.,   10.,   14.,    8.],\n",
       "        [  12.,   28.,   36.,   44.,   24.],\n",
       "        [  28.,   60.,   68.,   76.,   40.],\n",
       "        [  44.,   92.,  100.,  108.,   56.],\n",
       "        [  26.,   54.,   58.,   62.,   32.]]])"
      ]
     },
     "execution_count": 381,
     "metadata": {},
     "output_type": "execute_result"
    }
   ],
   "source": [
    "fast_multi_layer_conv(big, kernel, stride, pad)"
   ]
  },
  {
   "cell_type": "code",
   "execution_count": 71,
   "metadata": {
    "collapsed": false
   },
   "outputs": [],
   "source": [
    "num_test = 1000\n",
    "for i in range(num_test):\n",
    "    ndim = np.random.randint(1, 6)\n",
    "#     ndim=1\n",
    "    shape = tuple(np.random.randint(1, 4) for i in range(ndim))\n",
    "    k_shape = tuple(np.random.randint(1,1+dim) for dim in shape)\n",
    "    dat = np.random.rand(*shape)\n",
    "    kernel = np.random.rand(*k_shape)\n",
    "    \n",
    "    if not np.allclose(my_convd(dat, kernel, stride=1, pad=0), fftconvolve(dat, flip_ndarray(kernel), 'valid')):\n",
    "        print dat.shape\n",
    "        print kernel.shape\n",
    "        print np.mean(np.absolute(my_convd(dat, kernel, stride=1, pad=0)-fftconvolve(dat, kernel, 'valid')))"
   ]
  }
 ],
 "metadata": {
  "kernelspec": {
   "display_name": "Python 2",
   "language": "python",
   "name": "python2"
  },
  "language_info": {
   "codemirror_mode": {
    "name": "ipython",
    "version": 2
   },
   "file_extension": ".py",
   "mimetype": "text/x-python",
   "name": "python",
   "nbconvert_exporter": "python",
   "pygments_lexer": "ipython2",
   "version": "2.7.11"
  }
 },
 "nbformat": 4,
 "nbformat_minor": 0
}
